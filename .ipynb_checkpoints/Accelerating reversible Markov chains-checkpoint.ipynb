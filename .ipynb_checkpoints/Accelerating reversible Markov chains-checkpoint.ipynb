{
 "cells": [
  {
   "cell_type": "markdown",
   "metadata": {},
   "source": [
    "# Accelerating reversible Markov chains\n",
    "## Ruihua RUAN"
   ]
  },
  {
   "cell_type": "code",
   "execution_count": 1,
   "metadata": {},
   "outputs": [],
   "source": [
    "import numpy as np\n",
    "import matplotlib.pylab as plt"
   ]
  },
  {
   "cell_type": "code",
   "execution_count": 2,
   "metadata": {},
   "outputs": [],
   "source": [
    "# espace d'etats\n",
    "etats = np.array([1,2,3,4,5,6])"
   ]
  },
  {
   "cell_type": "code",
   "execution_count": 3,
   "metadata": {},
   "outputs": [],
   "source": [
    "# la probabilite sous-jacente\n",
    "pi = np.array([0.3, 0.2, 0.1, 0.1, 0.15, 0.15])"
   ]
  },
  {
   "cell_type": "code",
   "execution_count": 5,
   "metadata": {},
   "outputs": [
    {
     "name": "stdout",
     "output_type": "stream",
     "text": [
      "P = \n",
      "[[0.53 0.13 0.07 0.07 0.1  0.1 ]\n",
      " [0.2  0.4  0.1  0.1  0.1  0.1 ]\n",
      " [0.2  0.2  0.2  0.2  0.1  0.1 ]\n",
      " [0.2  0.2  0.2  0.2  0.1  0.1 ]\n",
      " [0.2  0.13 0.07 0.07 0.53 0.  ]\n",
      " [0.2  0.13 0.07 0.07 0.   0.53]]\n"
     ]
    }
   ],
   "source": [
    "# la matrice orginale par rapport à laquelle pi est reversible\n",
    "P = np.zeros((6,6))\n",
    "P[0] = np.array([8,2,1,1,1.5,1.5])/15\n",
    "P[1] = np.array([2,4,1,1,1,1])/10\n",
    "P[2] = np.array([2,2,2,2,1,1])/10\n",
    "P[3] = np.array([2,2,2,2,1,1])/10\n",
    "P[4] = np.array([3,2,1,1,8,0])/15\n",
    "P[5] = np.array([3,2,1,1,0,8])/15\n",
    "print(\"P = \")\n",
    "print(np.round(P,2))"
   ]
  },
  {
   "cell_type": "markdown",
   "metadata": {},
   "source": [
    "# Partie 1 : cyclique"
   ]
  },
  {
   "cell_type": "code",
   "execution_count": 6,
   "metadata": {},
   "outputs": [],
   "source": [
    "# la fonction pour trouver la valeur Alpha dans lemme 3 donné un cycle\n",
    "def alpha(pi,P,cycle):\n",
    "    Pi = np.zeros((6,6))\n",
    "    for i in range(6):\n",
    "        Pi[i] = pi\n",
    "        \n",
    "    a = 1\n",
    "    A = np.transpose(Pi) * P\n",
    "    cycle = cycle + [cycle[0]]\n",
    "    \n",
    "    for i in range(len(cycle)-1):\n",
    "        a = np.minimum(a, A[cycle[i],cycle[i+1]])\n",
    "    return a"
   ]
  },
  {
   "cell_type": "code",
   "execution_count": 7,
   "metadata": {},
   "outputs": [],
   "source": [
    "# la fonction pour trouver la matrice antisymetrique dans le lemme 3\n",
    "def Q_antisym(pi,P,cycle):\n",
    "    \n",
    "    Q = np.zeros(P.shape)\n",
    "    alph = alpha(pi,P,cycle)\n",
    "    cycle = cycle + [cycle[0]]\n",
    "    \n",
    "    for i in range(len(cycle)-1):\n",
    "        Q[cycle[i],cycle[i+1]] = alph/pi[cycle[i]]\n",
    "        Q[cycle[i+1],cycle[i]] = - alph/pi[cycle[i+1]]\n",
    "        \n",
    "    return Q"
   ]
  },
  {
   "cell_type": "code",
   "execution_count": 8,
   "metadata": {},
   "outputs": [],
   "source": [
    "# c1 et c2 sont disjoints\n",
    "c1 = [0,1,5]\n",
    "c2 = [2,3,4]\n",
    "c3 = [0,1,2,3]\n",
    "Q1 = Q_antisym(pi,P,c1)\n",
    "Q2 = Q_antisym(pi,P,c2)\n",
    "Q3 = Q_antisym(pi,P,c3)"
   ]
  },
  {
   "cell_type": "code",
   "execution_count": 9,
   "metadata": {},
   "outputs": [],
   "source": [
    "P_new1 = np.abs(P + Q1)\n",
    "P_new2 = np.abs(P_new1 + Q2)\n",
    "P_new3 = np.abs(P + Q3)"
   ]
  },
  {
   "cell_type": "code",
   "execution_count": 15,
   "metadata": {},
   "outputs": [
    {
     "name": "stdout",
     "output_type": "stream",
     "text": [
      "P + Q_1 = \n",
      "[[0.533 0.2   0.067 0.067 0.1   0.033]\n",
      " [0.1   0.4   0.1   0.1   0.1   0.2  ]\n",
      " [0.2   0.2   0.2   0.2   0.1   0.1  ]\n",
      " [0.2   0.2   0.2   0.2   0.1   0.1  ]\n",
      " [0.2   0.133 0.067 0.067 0.533 0.   ]\n",
      " [0.333 0.    0.067 0.067 0.    0.533]]\n",
      "\n",
      "\n",
      "P + Q_1 + Q_2 = \n",
      "[[0.533 0.2   0.067 0.067 0.1   0.033]\n",
      " [0.1   0.4   0.1   0.1   0.1   0.2  ]\n",
      " [0.2   0.2   0.2   0.3   0.    0.1  ]\n",
      " [0.2   0.2   0.1   0.2   0.2   0.1  ]\n",
      " [0.2   0.133 0.133 0.    0.533 0.   ]\n",
      " [0.333 0.    0.067 0.067 0.    0.533]]\n",
      "\n",
      "\n",
      "P + Q_3 = \n",
      "[[0.533 0.2   0.067 0.    0.1   0.1  ]\n",
      " [0.1   0.4   0.2   0.1   0.1   0.1  ]\n",
      " [0.2   0.    0.2   0.4   0.1   0.1  ]\n",
      " [0.4   0.2   0.    0.2   0.1   0.1  ]\n",
      " [0.2   0.133 0.067 0.067 0.533 0.   ]\n",
      " [0.2   0.133 0.067 0.067 0.    0.533]]\n"
     ]
    }
   ],
   "source": [
    "print(\"P + Q_1 = \")\n",
    "print(np.round(P_new1,3))\n",
    "print(\"\\n\")\n",
    "\n",
    "print(\"P + Q_1 + Q_2 = \")\n",
    "print(np.round(P_new2,3))\n",
    "print(\"\\n\")\n",
    "\n",
    "print(\"P + Q_3 = \")\n",
    "print(np.round(P_new3,3))"
   ]
  },
  {
   "cell_type": "code",
   "execution_count": 17,
   "metadata": {},
   "outputs": [],
   "source": [
    "# etats = espace d'etats\n",
    "# etat_original = numero de l'etat 0\n",
    "# N = la longeur de la chaine\n",
    "def markov_chain (P, etats, etat_original, N):\n",
    "    etats_index = range(len(etats))\n",
    "    chain = [etat_original]\n",
    "    \n",
    "    for n in range(N):\n",
    "        etat_avant = chain[-1]\n",
    "        pr = P[etat_avant]\n",
    "        etat_n = np.random.choice(etats_index, p = pr)\n",
    "        chain.append(etat_n)\n",
    "        \n",
    "    return [etats[n] for n in chain]"
   ]
  },
  {
   "cell_type": "code",
   "execution_count": 38,
   "metadata": {},
   "outputs": [],
   "source": [
    "# on prend m trajectoires independantes\n",
    "m = 2000\n",
    "# N est la longeur de chaque chaine\n",
    "N = 1000\n",
    "\n",
    "etat_original  = 2"
   ]
  },
  {
   "cell_type": "code",
   "execution_count": 39,
   "metadata": {},
   "outputs": [],
   "source": [
    "# la chaine generee par P\n",
    "Chains0 = [markov_chain(P, etats, etat_original, N) for i in range(m)]\n",
    "\n",
    "# la chaine generee par P + Q_1\n",
    "Chains1 = [markov_chain(P_new1, etats, etat_original, N) for i in range(m)]\n",
    "\n",
    "# la chaine generee par P + Q_1 + Q_2\n",
    "Chains2 = [markov_chain(P_new2, etats, etat_original, N) for i in range(m)]\n",
    "\n",
    "# la chaine generee par P + Q_3\n",
    "Chains3 = [markov_chain(P_new3, etats, etat_original, N) for i in range(m)]"
   ]
  },
  {
   "cell_type": "markdown",
   "metadata": {},
   "source": [
    "# Partie 2 : acyclique"
   ]
  },
  {
   "cell_type": "code",
   "execution_count": 40,
   "metadata": {},
   "outputs": [],
   "source": [
    "# la fonction pour trouver deux elements non nuls et return beta\n",
    "def beta(pi,P):\n",
    "    b = pi*np.diag(P)\n",
    "    x = np.nonzero(b)[0]\n",
    "    if len(x) >= 2:\n",
    "        return int(x[0]),int(x[1]),np.minimum(b[x[0]],b[x[1]])\n",
    "    else:\n",
    "        return 0,0,0"
   ]
  },
  {
   "cell_type": "code",
   "execution_count": 79,
   "metadata": {},
   "outputs": [],
   "source": [
    "# la fonction pour trouver la matrice dans Theoreme 3 donné un cycle\n",
    "def P_beta(pi, P):\n",
    "    while True:\n",
    "        Q = np.zeros(P.shape)\n",
    "        i, j, bet = beta(pi, P)\n",
    "        if bet == 0:\n",
    "            break\n",
    "        Q[i,i] = - bet/pi[i]\n",
    "        Q[j,j] = - bet/pi[j]\n",
    "        Q[i,j] =  bet/pi[i]\n",
    "        Q[j,i] =  bet/pi[j]\n",
    "        P = P + Q\n",
    "    return P"
   ]
  },
  {
   "cell_type": "code",
   "execution_count": 80,
   "metadata": {},
   "outputs": [
    {
     "name": "stdout",
     "output_type": "stream",
     "text": [
      "P' = P_new4 = \n",
      "[[0.    0.4   0.133 0.133 0.233 0.1  ]\n",
      " [0.6   0.    0.1   0.1   0.1   0.1  ]\n",
      " [0.4   0.2   0.    0.2   0.1   0.1  ]\n",
      " [0.4   0.2   0.2   0.    0.1   0.1  ]\n",
      " [0.467 0.133 0.067 0.067 0.    0.267]\n",
      " [0.2   0.133 0.067 0.067 0.267 0.267]]\n"
     ]
    }
   ],
   "source": [
    "P_new4 = P_beta(pi, P)\n",
    "print(\"P' = P_new4 = \")\n",
    "print(np.round(P_new4,3))"
   ]
  },
  {
   "cell_type": "code",
   "execution_count": 69,
   "metadata": {},
   "outputs": [
    {
     "name": "stdout",
     "output_type": "stream",
     "text": [
      "P'+ Q'_3 = P_new5 = \n",
      "[[0.    0.467 0.133 0.067 0.233 0.1  ]\n",
      " [0.5   0.    0.2   0.1   0.1   0.1  ]\n",
      " [0.4   0.    0.    0.4   0.1   0.1  ]\n",
      " [0.6   0.2   0.    0.    0.1   0.1  ]\n",
      " [0.467 0.133 0.067 0.067 0.    0.267]\n",
      " [0.2   0.133 0.067 0.067 0.267 0.267]]\n"
     ]
    }
   ],
   "source": [
    "Q3_new = Q_antisym(pi, P_new4, c3)\n",
    "P_new5 = np.abs(P_new4 + Q3_new)\n",
    "print(\"P'+ Q'_3 = P_new5 = \")\n",
    "print(np.round(P_new5,3))"
   ]
  },
  {
   "cell_type": "code",
   "execution_count": 84,
   "metadata": {},
   "outputs": [],
   "source": [
    "# la chaine generee par P' = aP_new\n",
    "Chains4 = [markov_chain(P_new4, etats, etat_original, N) for i in range(m)]\n",
    "\n",
    "# la chaine generee par P' + Q'_3\n",
    "Chains5 = [markov_chain(P_new5, etats, etat_original, N) for i in range(m)]"
   ]
  },
  {
   "cell_type": "markdown",
   "metadata": {},
   "source": [
    "# Resultats"
   ]
  },
  {
   "cell_type": "code",
   "execution_count": 72,
   "metadata": {},
   "outputs": [],
   "source": [
    "# la fonction f (on prend des polynomes ici)\n",
    "def f(etats, func):\n",
    "    if type(func) == int:\n",
    "        return np.array(etats)** func\n",
    "    elif func == \"sin\":\n",
    "        return np.sin(np.array(etats))\n",
    "    elif func == 'exp':\n",
    "        return np.exp(np.array(etats))\n",
    "    elif func == 'log':\n",
    "        return np.log(np.array(etats))\n",
    "    else:\n",
    "        print(\"choose another function please\")\n",
    "        return 0\n",
    "\n",
    "# experance de f sous pi\n",
    "def pi_f(etats, pi, f, func = 1):\n",
    "    return np.sum(f(etats,func) * pi)"
   ]
  },
  {
   "cell_type": "code",
   "execution_count": 73,
   "metadata": {},
   "outputs": [],
   "source": [
    "def var_asym(etats, pi, chain, f, func = 1):\n",
    "    n = len(chain)\n",
    "    moyenne_est = np.mean(f(chain,func))\n",
    "    moyenne_vraie = pi_f(etats, pi, f, func)\n",
    "    return n*(moyenne_est - moyenne_vraie)**2"
   ]
  },
  {
   "cell_type": "code",
   "execution_count": 85,
   "metadata": {},
   "outputs": [],
   "source": [
    "# les variances asymptotiques pour f(x) = func\n",
    "def print_var(func):\n",
    "    var0 = np.mean(np.array([var_asym(etats, pi, c , f, func) for c in Chains0]))\n",
    "    var1 = np.mean(np.array([var_asym(etats, pi, c , f, func) for c in Chains1]))\n",
    "    var2 = np.mean(np.array([var_asym(etats, pi, c , f, func) for c in Chains2]))\n",
    "    var3 = np.mean(np.array([var_asym(etats, pi, c , f, func) for c in Chains3]))\n",
    "    var4 = np.mean(np.array([var_asym(etats, pi, c , f, func) for c in Chains4]))\n",
    "    var5 = np.mean(np.array([var_asym(etats, pi, c , f, func) for c in Chains5]))\n",
    "    \n",
    "#     print('f(x) = ' + func)\n",
    "    print('var_asym_P = ' + str(var0))\n",
    "    print('var_asym_P_new1 = ' + str(var1))\n",
    "    print('var_asym_P_new2 = ' + str(var2))\n",
    "    print('var_asym_P_new3 = ' + str(var3))\n",
    "    print('var_asym_P_new4 = ' + str(var4))\n",
    "    print('var_asym_P_new5 = ' + str(var5))\n",
    "    \n",
    "    return 0"
   ]
  },
  {
   "cell_type": "code",
   "execution_count": 86,
   "metadata": {
    "scrolled": true
   },
   "outputs": [
    {
     "name": "stdout",
     "output_type": "stream",
     "text": [
      "var_asym_P = 6.995644755244755\n",
      "var_asym_P_new1 = 6.679627722277723\n",
      "var_asym_P_new2 = 6.5580329670329665\n",
      "var_asym_P_new3 = 6.689570429570429\n",
      "var_asym_P_new4 = 4.138990809190809\n",
      "var_asym_P_new5 = 4.016176523476522\n"
     ]
    },
    {
     "data": {
      "text/plain": [
       "0"
      ]
     },
     "execution_count": 86,
     "metadata": {},
     "output_type": "execute_result"
    }
   ],
   "source": [
    "print_var(1)"
   ]
  },
  {
   "cell_type": "code",
   "execution_count": 87,
   "metadata": {},
   "outputs": [
    {
     "name": "stdout",
     "output_type": "stream",
     "text": [
      "var_asym_P = 339.85449100899103\n",
      "var_asym_P_new1 = 320.4090322177822\n",
      "var_asym_P_new2 = 313.22233466533464\n",
      "var_asym_P_new3 = 328.09870379620384\n",
      "var_asym_P_new4 = 223.84885664335667\n",
      "var_asym_P_new5 = 217.84454395604396\n"
     ]
    },
    {
     "data": {
      "text/plain": [
       "0"
      ]
     },
     "execution_count": 87,
     "metadata": {},
     "output_type": "execute_result"
    }
   ],
   "source": [
    "print_var(2)"
   ]
  },
  {
   "cell_type": "code",
   "execution_count": 88,
   "metadata": {},
   "outputs": [
    {
     "name": "stdout",
     "output_type": "stream",
     "text": [
      "var_asym_P = 45926.91876107907\n",
      "var_asym_P_new1 = 41972.79831305899\n",
      "var_asym_P_new2 = 41641.92750744705\n",
      "var_asym_P_new3 = 45321.87461254325\n",
      "var_asym_P_new4 = 29609.384323820537\n",
      "var_asym_P_new5 = 29140.49867668122\n"
     ]
    },
    {
     "data": {
      "text/plain": [
       "0"
      ]
     },
     "execution_count": 88,
     "metadata": {},
     "output_type": "execute_result"
    }
   ],
   "source": [
    "print_var('exp')"
   ]
  },
  {
   "cell_type": "code",
   "execution_count": 89,
   "metadata": {},
   "outputs": [
    {
     "name": "stdout",
     "output_type": "stream",
     "text": [
      "var_asym_P = 0.9475643389581306\n",
      "var_asym_P_new1 = 0.9106453157704476\n",
      "var_asym_P_new2 = 0.9028735308576286\n",
      "var_asym_P_new3 = 0.9005658223297925\n",
      "var_asym_P_new4 = 0.45287639959858916\n",
      "var_asym_P_new5 = 0.4384825322714761\n"
     ]
    },
    {
     "data": {
      "text/plain": [
       "0"
      ]
     },
     "execution_count": 89,
     "metadata": {},
     "output_type": "execute_result"
    }
   ],
   "source": [
    "print_var('log')"
   ]
  },
  {
   "cell_type": "code",
   "execution_count": null,
   "metadata": {},
   "outputs": [],
   "source": []
  },
  {
   "cell_type": "code",
   "execution_count": null,
   "metadata": {},
   "outputs": [],
   "source": []
  },
  {
   "cell_type": "code",
   "execution_count": null,
   "metadata": {},
   "outputs": [],
   "source": []
  }
 ],
 "metadata": {
  "kernelspec": {
   "display_name": "Python 3",
   "language": "python",
   "name": "python3"
  },
  "language_info": {
   "codemirror_mode": {
    "name": "ipython",
    "version": 3
   },
   "file_extension": ".py",
   "mimetype": "text/x-python",
   "name": "python",
   "nbconvert_exporter": "python",
   "pygments_lexer": "ipython3",
   "version": "3.6.4"
  }
 },
 "nbformat": 4,
 "nbformat_minor": 2
}

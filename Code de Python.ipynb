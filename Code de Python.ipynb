{
 "cells": [
  {
   "cell_type": "code",
   "execution_count": 1,
   "metadata": {},
   "outputs": [],
   "source": [
    "import numpy as np\n",
    "import matplotlib.pylab as plt"
   ]
  },
  {
   "cell_type": "code",
   "execution_count": 66,
   "metadata": {},
   "outputs": [],
   "source": [
    "# espace d'etats\n",
    "etats = np.array([1,2,3,4,5,6])"
   ]
  },
  {
   "cell_type": "code",
   "execution_count": 67,
   "metadata": {},
   "outputs": [],
   "source": [
    "# la probabilite sous-jacente\n",
    "pi = np.array([0.3, 0.2, 0.1, 0.1, 0.15, 0.15])"
   ]
  },
  {
   "cell_type": "code",
   "execution_count": 155,
   "metadata": {},
   "outputs": [
    {
     "name": "stdout",
     "output_type": "stream",
     "text": [
      "P = \n",
      "[[0.533 0.133 0.067 0.067 0.1   0.1  ]\n",
      " [0.2   0.4   0.1   0.1   0.1   0.1  ]\n",
      " [0.2   0.2   0.2   0.2   0.1   0.1  ]\n",
      " [0.2   0.2   0.2   0.2   0.1   0.1  ]\n",
      " [0.2   0.133 0.067 0.067 0.533 0.   ]\n",
      " [0.2   0.133 0.067 0.067 0.    0.533]]\n"
     ]
    }
   ],
   "source": [
    "# la matrice orginale par rapport à laquelle pi est reversible\n",
    "P = np.zeros((6,6))\n",
    "P[0] = np.array([8,2,1,1,1.5,1.5])/15\n",
    "P[1] = np.array([2,4,1,1,1,1])/10\n",
    "P[2] = np.array([2,2,2,2,1,1])/10\n",
    "P[3] = np.array([2,2,2,2,1,1])/10\n",
    "P[4] = np.array([3,2,1,1,8,0])/15\n",
    "P[5] = np.array([3,2,1,1,0,8])/15\n",
    "print(\"P = \")\n",
    "print(np.round(P,3))"
   ]
  },
  {
   "cell_type": "markdown",
   "metadata": {},
   "source": [
    "# Partie 1 : cyclique"
   ]
  },
  {
   "cell_type": "code",
   "execution_count": 69,
   "metadata": {},
   "outputs": [],
   "source": [
    "# la fonction pour trouver la valeur Alpha dans lemme 3 donné un cycle\n",
    "def alpha(pi,P,cycle):\n",
    "    Pi = np.zeros((6,6))\n",
    "    for i in range(6):\n",
    "        Pi[i] = pi\n",
    "        \n",
    "    a = 1\n",
    "    A = np.transpose(Pi) * P\n",
    "    cycle = cycle + [cycle[0]]\n",
    "    \n",
    "    for i in range(len(cycle)-1):\n",
    "        a = np.minimum(a, A[cycle[i],cycle[i+1]])\n",
    "    return a"
   ]
  },
  {
   "cell_type": "code",
   "execution_count": 97,
   "metadata": {},
   "outputs": [],
   "source": [
    "# la fonction pour trouver la matrice antisymetrique dans le lemme 3\n",
    "def Q_antisym(pi,P,cycle):\n",
    "    \n",
    "    Q = np.zeros(P.shape)\n",
    "    alph = alpha(pi,P,cycle)\n",
    "    cycle = cycle + [cycle[0]]\n",
    "    \n",
    "    for i in range(len(cycle)-1):\n",
    "        Q[cycle[i],cycle[i+1]] = alph/pi[cycle[i]]\n",
    "        Q[cycle[i+1],cycle[i]] = - alph/pi[cycle[i+1]]\n",
    "        \n",
    "    return Q"
   ]
  },
  {
   "cell_type": "code",
   "execution_count": 98,
   "metadata": {},
   "outputs": [],
   "source": [
    "# c1 et c2 sont disjoints\n",
    "c1 = [0,1,5]\n",
    "c2 = [2,3,4]\n",
    "c3 = [0,1,2,3]\n",
    "Q1 = Q_antisym(pi,P,c1)\n",
    "Q2 = Q_antisym(pi,P,c2)\n",
    "Q3 = Q_antisym(pi,P,c3)"
   ]
  },
  {
   "cell_type": "code",
   "execution_count": 99,
   "metadata": {},
   "outputs": [],
   "source": [
    "P_new1 = np.abs(P + Q1)\n",
    "P_new2 = np.abs(P_new1 + Q2)\n",
    "P_new3 = np.abs(P + Q3)"
   ]
  },
  {
   "cell_type": "code",
   "execution_count": 100,
   "metadata": {},
   "outputs": [
    {
     "name": "stdout",
     "output_type": "stream",
     "text": [
      "P + Q_1 = \n",
      "[[0.533 0.2   0.067 0.067 0.1   0.033]\n",
      " [0.1   0.4   0.1   0.1   0.1   0.2  ]\n",
      " [0.2   0.2   0.2   0.2   0.1   0.1  ]\n",
      " [0.2   0.2   0.2   0.2   0.1   0.1  ]\n",
      " [0.2   0.133 0.067 0.067 0.533 0.   ]\n",
      " [0.333 0.    0.067 0.067 0.    0.533]]\n",
      "P + Q_1 + Q_2 = \n",
      "[[0.533 0.2   0.067 0.067 0.1   0.033]\n",
      " [0.1   0.4   0.1   0.1   0.1   0.2  ]\n",
      " [0.2   0.2   0.2   0.3   0.    0.1  ]\n",
      " [0.2   0.2   0.1   0.2   0.2   0.1  ]\n",
      " [0.2   0.133 0.133 0.    0.533 0.   ]\n",
      " [0.333 0.    0.067 0.067 0.    0.533]]\n",
      "P + Q_3 = \n",
      "[[0.533 0.2   0.067 0.    0.1   0.1  ]\n",
      " [0.1   0.4   0.2   0.1   0.1   0.1  ]\n",
      " [0.2   0.    0.2   0.4   0.1   0.1  ]\n",
      " [0.4   0.2   0.    0.2   0.1   0.1  ]\n",
      " [0.2   0.133 0.067 0.067 0.533 0.   ]\n",
      " [0.2   0.133 0.067 0.067 0.    0.533]]\n"
     ]
    }
   ],
   "source": [
    "print(\"P + Q_1 = \")\n",
    "print(np.round(P_new1,3))\n",
    "\n",
    "print(\"P + Q_1 + Q_2 = \")\n",
    "print(np.round(P_new2,3))\n",
    "np.dot(pi,P_new2) # pour verifier que P_new2 est une matrice de transition sous laquelle pi est invariante\n",
    "\n",
    "print(\"P + Q_3 = \")\n",
    "print(np.round(P_new3,3))"
   ]
  },
  {
   "cell_type": "code",
   "execution_count": 101,
   "metadata": {},
   "outputs": [],
   "source": [
    "# etats = espace d'etats\n",
    "# etat_n_0 = numero de l'etat 0\n",
    "# N = la longeur de la chaine\n",
    "def markov_chain (P, etats, etat_original, N):\n",
    "    etats_index = range(len(etats))\n",
    "    chain = [etat_original]\n",
    "    \n",
    "    for n in range(N):\n",
    "        etat_avant = chain[-1]\n",
    "        pr = P[etat_avant]\n",
    "        etat_n = np.random.choice(etats_index, p = pr)\n",
    "        chain.append(etat_n)\n",
    "        \n",
    "    return [etats[n] for n in chain]"
   ]
  },
  {
   "cell_type": "code",
   "execution_count": 106,
   "metadata": {},
   "outputs": [],
   "source": [
    "# on prend m trajectoires independantes\n",
    "m = 1000\n",
    "# N est la longeur de chaque chaine\n",
    "N = 1000\n",
    "\n",
    "etat_original  = 2"
   ]
  },
  {
   "cell_type": "code",
   "execution_count": 107,
   "metadata": {},
   "outputs": [],
   "source": [
    "# la chaine generee par P\n",
    "Chains0 = [markov_chain(P, etats, etat_original, N) for i in range(m)]\n",
    "\n",
    "# la chaine generee par P + Q_1\n",
    "Chains1 = [markov_chain(P_new1, etats, etat_original, N) for i in range(m)]\n",
    "\n",
    "# la chaine generee par P + Q_1 + Q_2\n",
    "Chains2 = [markov_chain(P_new2, etats, etat_original, N) for i in range(m)]\n",
    "\n",
    "# la chaine generee par P + Q_3\n",
    "Chains3 = [markov_chain(P_new3, etats, etat_original, N) for i in range(m)]"
   ]
  },
  {
   "cell_type": "markdown",
   "metadata": {},
   "source": [
    "# Partie 2 : acyclique"
   ]
  },
  {
   "cell_type": "code",
   "execution_count": 114,
   "metadata": {},
   "outputs": [],
   "source": [
    "# la fonction pour trouver deux elements non nuls et return beta\n",
    "def beta(pi,P):\n",
    "    b = pi*np.diag(P)\n",
    "    x = np.nonzero(b)[0]\n",
    "    if len(x) >= 2:\n",
    "        return int(x[0]),int(x[1]),np.minimum(b[x[0]],b[x[1]])\n",
    "    else:\n",
    "        return 0,0,0"
   ]
  },
  {
   "cell_type": "code",
   "execution_count": 116,
   "metadata": {},
   "outputs": [],
   "source": [
    "# la fonction pour trouver la matrice dans Theoreme 3 donné un cycle\n",
    "def P_antisym_beta(pi, P):\n",
    "    \n",
    "    while True:\n",
    "        Q = np.zeros(P.shape)\n",
    "        i, j, bet = beta(pi, P)\n",
    "        if bet == 0:\n",
    "            break\n",
    "        Q[i,i] = - bet/pi[i]\n",
    "        Q[j,j] = - bet/pi[j]\n",
    "        Q[i,j] =  bet/pi[i]\n",
    "        Q[j,i] =  bet/pi[j]\n",
    "        P = P + Q\n",
    "\n",
    "    return P"
   ]
  },
  {
   "cell_type": "code",
   "execution_count": 117,
   "metadata": {},
   "outputs": [
    {
     "name": "stdout",
     "output_type": "stream",
     "text": [
      "P_new_acyclic = \n",
      "[[0.    0.4   0.133 0.133 0.233 0.1  ]\n",
      " [0.6   0.    0.1   0.1   0.1   0.1  ]\n",
      " [0.4   0.2   0.    0.2   0.1   0.1  ]\n",
      " [0.4   0.2   0.2   0.    0.1   0.1  ]\n",
      " [0.467 0.133 0.067 0.067 0.    0.267]\n",
      " [0.2   0.133 0.067 0.067 0.267 0.267]]\n"
     ]
    }
   ],
   "source": [
    "aP_new = P_antisym_beta(pi, P)\n",
    "print(\"P_new_acyclic = \")\n",
    "print(np.round(aP_new,3))"
   ]
  },
  {
   "cell_type": "code",
   "execution_count": 119,
   "metadata": {},
   "outputs": [
    {
     "data": {
      "text/plain": [
       "array([[0.   , 0.467, 0.133, 0.067, 0.233, 0.1  ],\n",
       "       [0.5  , 0.   , 0.2  , 0.1  , 0.1  , 0.1  ],\n",
       "       [0.4  , 0.   , 0.   , 0.4  , 0.1  , 0.1  ],\n",
       "       [0.6  , 0.2  , 0.   , 0.   , 0.1  , 0.1  ],\n",
       "       [0.467, 0.133, 0.067, 0.067, 0.   , 0.267],\n",
       "       [0.2  , 0.133, 0.067, 0.067, 0.267, 0.267]])"
      ]
     },
     "execution_count": 119,
     "metadata": {},
     "output_type": "execute_result"
    }
   ],
   "source": [
    "Q3 = Q_antisym(pi, aP_new, c3)\n",
    "aP_new1 = np.abs(aP_new + Q3)\n",
    "np.round(aP_new1,3)"
   ]
  },
  {
   "cell_type": "code",
   "execution_count": 125,
   "metadata": {},
   "outputs": [],
   "source": [
    "# la chaine generee par P' = aP_new\n",
    "Chains4 = [markov_chain(aP_new, etats, etat_original, N) for i in range(m)]\n",
    "\n",
    "# la chaine generee par P' + Q_3\n",
    "Chains5 = [markov_chain(aP_new1, etats, etat_original, N) for i in range(m)]"
   ]
  },
  {
   "cell_type": "markdown",
   "metadata": {},
   "source": [
    "# Resultats"
   ]
  },
  {
   "cell_type": "code",
   "execution_count": 146,
   "metadata": {},
   "outputs": [],
   "source": [
    "# la fonction f (on prend des polynomes ici)\n",
    "def f(etats, func):\n",
    "    if type(func) == int:\n",
    "        return np.array(etats)** func\n",
    "    elif func == \"sin\":\n",
    "        return np.sin(np.array(etats))\n",
    "    elif func == 'exp':\n",
    "        return np.exp(np.array(etats))\n",
    "    elif func == 'log':\n",
    "        return np.log(np.array(etats))\n",
    "    else:\n",
    "        print(\"choose another function please\")\n",
    "        return 0\n",
    "\n",
    "# experance de f sous pi\n",
    "def pi_f(etats, pi, f, func = 1):\n",
    "    return np.sum(f(etats,func) * pi)"
   ]
  },
  {
   "cell_type": "code",
   "execution_count": 147,
   "metadata": {},
   "outputs": [],
   "source": [
    "def var_asym(etats, pi, chain, f, func = 1):\n",
    "    n = len(chain)\n",
    "    moyenne_est = np.mean(f(chain,func))\n",
    "    moyenne_vraie = pi_f(etats, pi, f, func)\n",
    "    return n*(moyenne_est - moyenne_vraie)**2"
   ]
  },
  {
   "cell_type": "code",
   "execution_count": 148,
   "metadata": {},
   "outputs": [],
   "source": [
    "# les variances asymptotiques correspondant aux P, P+Q_1 et P+Q_1+Q_2 avec f(x) = func\n",
    "def print_var(func):\n",
    "    var0 = np.mean(np.array([var_asym(etats, pi, chain0 , f, func) for chain0 in Chains0]))\n",
    "    var1 = np.mean(np.array([var_asym(etats, pi, chain1 , f, func) for chain1 in Chains1]))\n",
    "    var2 = np.mean(np.array([var_asym(etats, pi, chain2 , f, func) for chain2 in Chains2]))\n",
    "    var3 = np.mean(np.array([var_asym(etats, pi, chain3 , f, func) for chain3 in Chains3]))\n",
    "    var4 = np.mean(np.array([var_asym(etats, pi, chain4 , f, func) for chain4 in Chains4]))\n",
    "    var5 = np.mean(np.array([var_asym(etats, pi, chain5 , f, func) for chain5 in Chains5]))\n",
    "    \n",
    "#     print('f(x) = ' + func)\n",
    "    print('var_asym_P = ' + str(var0))\n",
    "    print('var_asym_P_new1 = ' + str(var1))\n",
    "    print('var_asym_P_new2 = ' + str(var2))\n",
    "    print('var_asym_P_new3 = ' + str(var3))\n",
    "    print('var_asym_P_new4 = ' + str(var4))\n",
    "    print('var_asym_P_new5 = ' + str(var5))\n",
    "    \n",
    "    return 0"
   ]
  },
  {
   "cell_type": "code",
   "execution_count": 152,
   "metadata": {
    "scrolled": true
   },
   "outputs": [
    {
     "name": "stdout",
     "output_type": "stream",
     "text": [
      "var_asym_P = 6.872519780219778\n",
      "var_asym_P_new1 = 6.241800099900099\n",
      "var_asym_P_new2 = 6.199616483516483\n",
      "var_asym_P_new3 = 6.61073816183816\n",
      "var_asym_P_new4 = 4.1135824175824185\n",
      "var_asym_P_new5 = 3.7310383616383604\n"
     ]
    },
    {
     "data": {
      "text/plain": [
       "0"
      ]
     },
     "execution_count": 152,
     "metadata": {},
     "output_type": "execute_result"
    }
   ],
   "source": [
    "print_var(1)"
   ]
  },
  {
   "cell_type": "code",
   "execution_count": 153,
   "metadata": {},
   "outputs": [
    {
     "name": "stdout",
     "output_type": "stream",
     "text": [
      "var_asym_P = 339.7744510489511\n",
      "var_asym_P_new1 = 301.48104545454544\n",
      "var_asym_P_new2 = 298.07079370629367\n",
      "var_asym_P_new3 = 324.51601748251744\n",
      "var_asym_P_new4 = 219.8684435564436\n",
      "var_asym_P_new5 = 199.62048551448555\n"
     ]
    },
    {
     "data": {
      "text/plain": [
       "0"
      ]
     },
     "execution_count": 153,
     "metadata": {},
     "output_type": "execute_result"
    }
   ],
   "source": [
    "print_var(2)"
   ]
  },
  {
   "cell_type": "code",
   "execution_count": 149,
   "metadata": {},
   "outputs": [
    {
     "name": "stdout",
     "output_type": "stream",
     "text": [
      "var_asym_P = 47299.276019137236\n",
      "var_asym_P_new1 = 41822.592412228885\n",
      "var_asym_P_new2 = 40769.5157284459\n",
      "var_asym_P_new3 = 45234.883299982146\n",
      "var_asym_P_new4 = 29142.274051920194\n",
      "var_asym_P_new5 = 26345.857700501034\n"
     ]
    },
    {
     "data": {
      "text/plain": [
       "0"
      ]
     },
     "execution_count": 149,
     "metadata": {},
     "output_type": "execute_result"
    }
   ],
   "source": [
    "print_var('exp')"
   ]
  },
  {
   "cell_type": "code",
   "execution_count": 150,
   "metadata": {},
   "outputs": [
    {
     "name": "stdout",
     "output_type": "stream",
     "text": [
      "var_asym_P = 0.9192969858501442\n",
      "var_asym_P_new1 = 0.8620574552721171\n",
      "var_asym_P_new2 = 0.8547644098081351\n",
      "var_asym_P_new3 = 0.8845399978026138\n",
      "var_asym_P_new4 = 0.4588391177005689\n",
      "var_asym_P_new5 = 0.4160522746613623\n"
     ]
    },
    {
     "data": {
      "text/plain": [
       "0"
      ]
     },
     "execution_count": 150,
     "metadata": {},
     "output_type": "execute_result"
    }
   ],
   "source": [
    "print_var('log')"
   ]
  }
 ],
 "metadata": {
  "kernelspec": {
   "display_name": "Python 3",
   "language": "python",
   "name": "python3"
  },
  "language_info": {
   "codemirror_mode": {
    "name": "ipython",
    "version": 3
   },
   "file_extension": ".py",
   "mimetype": "text/x-python",
   "name": "python",
   "nbconvert_exporter": "python",
   "pygments_lexer": "ipython3",
   "version": "3.6.4"
  }
 },
 "nbformat": 4,
 "nbformat_minor": 2
}
